{
  "nbformat": 4,
  "nbformat_minor": 0,
  "metadata": {
    "colab": {
      "name": "Untitled1.ipynb",
      "provenance": [],
      "authorship_tag": "ABX9TyNiRPIjHc5FBiKnj0M3rmJ+",
      "include_colab_link": true
    },
    "kernelspec": {
      "name": "python3",
      "display_name": "Python 3"
    },
    "language_info": {
      "name": "python"
    }
  },
  "cells": [
    {
      "cell_type": "markdown",
      "metadata": {
        "id": "view-in-github",
        "colab_type": "text"
      },
      "source": [
        "<a href=\"https://colab.research.google.com/github/eggtoastyum/class2022spring/blob/main/20220425.ipynb\" target=\"_parent\"><img src=\"https://colab.research.google.com/assets/colab-badge.svg\" alt=\"Open In Colab\"/></a>"
      ]
    },
    {
      "cell_type": "markdown",
      "source": [
        "**Auto Correlation**\n",
        "\n",
        ": time series내의 값이 이전 값과 얼마나 유사한지 나타내는 데 사용되는 값, Statsmodel 라이브러리가 이 계산을 쉽게 해준다. \n",
        "\n",
        "1. Get Time Series Data\n",
        "\n",
        "2. Inspect & Clean Data\n",
        "\n",
        "3. Visualize Data\n",
        "\n",
        "4. Perform Autocorrelation & Visualization\n",
        "\n",
        "단계로 이루어진다."
      ],
      "metadata": {
        "id": "5TkXL_L1j_gl"
      }
    },
    {
      "cell_type": "markdown",
      "source": [
        "**Root Mean Square**\n",
        "\n",
        ": ![image.png](data:image/png;base64,iVBORw0KGgoAAAANSUhEUgAAAJ8AAAAeCAIAAAC9lVvKAAAE00lEQVRoge1a0XWjOhAd3tl/2AqggkAFgQoiUgFKA4EKIjqAVAAdQCqAVACuwFQQlAas9zFntQQcjGwnG/twfzgC6WqYK2lGCE0IAWeCEELTtHOxrViCeZ//N619dE+rtN8JVGre59oZ5+6Kn4bx3IXTpu9ehinhlw6p6xivZ3mLa5u7a+wfYs/c/VJ89WBapR3i2ubuiiE+zN04jjVNy/Mci2VZep4ni8vHAdbknPu+bxhG27aS3/M8WVQF5/z+/v6MhJeCtm0dx3Ech3MOAJxzSqnv+1icwV910VNhGEZRBAB5nqdp6jiOrLB30dsrOdaMoihNU8uy4jgGAEop59wwjOVvNSKPoihJklMILxGc8zRNy7LcbDZ5nnPOPc8b6gIzE08IsdvtxB8kSQIAWZa5rtv3vbw/rKMEQoiu61mWBUEwfXoE7YjwaMMuDrqu393dBUGQZdnCJoAX6aOqqgDAtu2htKrY7XaSkDEGAHul3dvwYB0kpJSeTvUTsNxO13Vx4i0nh1G573sAqKpquRHz9hVFgSvEKRh2cRbCS0QYhq7rKjUZ74h83zdNs67r0f2ZncbMo67r0jQFgCmhEmQXSwjFhe8C9tpflmVd16+vr0pUH9SllFJKHcfpug4ADqZk8+CcB0Hw/Pys6zoS4sIwwvKMF3PFNE0l4V4LN5vN9OYFSa5pH7apQoi2bdM0xWGtJo0QIkkS27Zd18U1nTGm6zpjLAzD6aqLlaeLAGNMhgRCCCHEtu2maYQQnufZtv34+Jhl2ZCwqirXdcMwJITAJBxMCW9ubpDQdV1JOGySZZlt20EQ2LZNCBk+2m63jLFpxPkJGPqkrmvG2Ha7xaKu65RSmeECACEkCAL0w0GAEKJpmqErt9stOn1UFcUwTRMmmTZ2LKNCURRDVxZF4Xke8g9b6boue0E9hk/nCeVYlGiaBgCKohB/csNhBbzDGFvilH8IzBnlmyZJMhSbMUYIWT5GFdIT7AO7nz4NgkA15idJgmNwt9u5rjuabaqEfd8zxnCMYwgYqotD9qC6wyGFGLlbfDJQjm44QlVVpmmqrjFS/hEUvjNbljXz1Pf9+QpTRFGEu/L39/e2bSmlpxAahhHHMX7ciOM4CIIhoWVZjuOoWngcxAkx3vM8wzCU7IyiCH3FOU+SxHGch4eHv6Yo4bO5a5qm3CKr7jUJIdNAMCRcjjAMTdMMw3DUtqqq0drwb/GZixhjSZIs53l7e2uapqoqGeaenp7kKqKgLhr0mbpHfz1gjC381jEPNIBzXlUVJoZt255Ou6TTr6isBIxiyH97eyvHx2F1hx+exOfqHgfMcnGenfflbds+MYcavbhq25ni3junQNd1TCcx4ZBh+HDc1TRt/tBUHBtmOOd5ntd1jcFSdas+ZcO9IOL379/TAwYlUw++uOSc0o4aTnnOeA5dliUA+L4PAHVdE0Jk2P6lysU51zRteDhztKFRFHVdh2YhTvmk1bat7/td1+ERYdM0WZbBx781znu2Lw79tya+5UeRsiylD8uyNAwjTVM8R1I4ve+6Tp71AoBlWaMsVxV4kHcuwr7vX15e5PSllKpmyGcX43vUlVoCQFmWbdt6nud5Hqz/Zlw3vvu/qhXfiVXda8aq7jVjVfeasap7zfgf2XywxjyrnbcAAAAASUVORK5CYII=)\n",
        "일 때 , Root Mean Square (RMS) = ![image.png](data:image/png;base64,iVBORw0KGgoAAAANSUhEUgAAANIAAAAiCAIAAAClaRAMAAAXS0lEQVR4nO1ca3BU5Rn+ztmze/Zskt3NJllzJYCRIIEK5WJqSwMREBjH1lgqWBhkKoO14/Cjnem0HX5g0Wnr1BnraO20GodC0TAQlQ7MgIGxCbQBghrBtSWACbmwuW72du7n9Mfjvh5DiJVWLjO8PzK7Z8/l+97veZ/39p1wpmnyPG9ZFmOM53nTNF0ul6qqoiiy8cS27XGPcxx3Q53//5IJnstxHP4yxqA3+lXXdbfbbZqmYRiWZZmm6fV6J77/mInYtm3bttvt1nXdtm1RFNPptNfrxUqNOx6Xy2VZlmVZgiDwPH8Vk71mwtm27VQZJg+Fjn/BDQavK51/DYQwxxizLIvjOKy62+22bduyLGh1586dp06dCoVCX+rmLpeL4zjTNDmOEwQhnU673W7wwgSXaJrm8/nmzZt39913S5Iky7IkSf/LHL8iEVhm5QzDEAQBgLMs60rmcqPB66tmuysJMCEIAumN4ziXy+VyuQBHOA2O4wzD2Lx586RJk77U/XVdx62A3TFserlomubxeHAhkMoYuzExxxgTyGTxF18ty7pZ4HUd2Q5LS/6BjtMRj8dj23Y0Gi0oKJhg/OP+5Ha78QE+Gt4WTxxXPB6PaZq6rsObW5al6/qVIqXrLgJAxhiDbem6zhiD3YwrNxq8rhfb6brO8zx4jg6OWWy4SE3TJmadcadmGEY8Hh8ZGXG5XPn5+W63G777SnoAHWIRwRoTLOJ1l0+dLCaj67rH49E0jd088LpebOdyuXie1zSNaAkCzKXTaZ/PJwiCqqq6rk8QtIwRmqau6x0dHa+//vqsWbPy8/NXrlxpGMYE7OX0wvgAEhkzvBtEBGSy+OLxeE6fPp2Xl+c8OEZuNHhdL7aDv0skElOmTKF4jmVCZJ/PRwOTJGkCzF1p/JIkJRKJ6urqaDS6dOlSMJmiKFfKiMFtyH/Jcd+YmGOMCVAZvqTT6d/85jeLFi2a4IIbDV5fNdtd6bmapgEBWVlZhYWFOMjzPCjQ4/EgkzVNc4Lck403fjwRBLl48eI9e/YYhgF/fSXMOe/mrEVM4JSvr3yaUoCi+/r6amtrN2zYgIOGYTDGBEEAV8Oh0DScrA6lIPJljFmWZRgGVM8YQ12Qkn+KP3iet20bTEDPIn+E+1OCxjJEgiIFLTBqVIZh4Mh/787GiPNCp06YIzfE+GnYzpwRY8OFGDDNSxRF0gPpiud5UJdzvviAm9u2vXDhQkEQHn/8cRT/Js5ggHKnV8UKTpCF/L+EioXMkVAT4i9fEU3TeGca29vbW1paSphDdaCpqSmVSjHGACPbthH8oUCAOSPQIczRyYACMIFagNMfOWNKQRAQCeFMXMIcyQ3dBIE8z/OpVMrj8eA0PIiefhWCmwNYHMehfoEbut1uQRASiQSNHyaE46QBNh41ktKdVtff33/48GFQF0xFURQq9tJkDcNQFAVlGiwq9A+hR1DtBkNSVZU0dg0wB2sBVEzTRPLOHIZBmAMZMcY8Hs9nBsQYO3/+fE1NDR0xTbOpqenpp59ubGx0JueAAsUZND1nVEHZPtkBrBxVUJgmlsQwDFQHLMsSRREcQ9RC1AieY4yBdG3bzsrKAjgIcwRWJ0f+9+pzxk/Ak2magJ2maTk5OTRrRVHcbjdKxJqmiaKISQG7zsYD6AdHXC6XYRjRaHT37t0nT56sra01DAPj93q96AyZprljx46DBw/m5uaGw2FZlnETl8s1OjpaWVm5efPmywcPLhBFEX/J4K+Zk8UCYRikeWgJCw2TIAf1GVwYY319fbfddhtpkOf5ZcuWNTY2AqRer1fTNEDbtm3SFIURWPKurq6jR48mEon169dD48AW4YYxxnEcFdBPnTr173//27bt1atXY23wdPLgACvmY5rmkSNHenp6ysrKampqaIbAOhn3xJXVcQVs4XK5wNljPNTAwMDhw4eHh4cfe+wxqIIuJKc2hoQgSGmpFCoIQkFBwerVq1tbW/GVlo18xYwZM7Zs2bJmzZpHH30UdA5H0dTU1NjY6PROzrn/4x//6Orqcrvda9asIYV/YZH5fxciMywQVgTAIC0R9ViWhUX8nNNVFIUcM1WMFUVhmVUhCqVGITEcNXYNw/jWt77V398/NDRE9AvgkiPjOA6tG9xz6dKl7e3tmqbhDoqi0PrhQpahWE3TsrOza2pqWlpaPB4PfiX2xmdN065O14qigIYNwyArwpB0Xa+trR0cHIzH48lkEmEAhXoUdVzu4kdHR4PBIE4zDENVVegQcSHdnGW8rSAI8+bN27ZtW319fWdnZzgcLigoCIVCgUDgvvvuW7Ro0eXIhpMVBOGee+6JRCJjlvkq9PBlBTSBWSBgAO9aliXLMsvQQTqdBgA0TeNp6CwDCxxBIdQ0TUmSEC4AMTBK8mXk1wBEXdenTJkiy3JJSUlZWRk1drxeL04gXYMvXS5XZWVlJBJZsmQJWTYYlDnwhJ46Y0ySpPnz5zc3N3/ve99jDmqkNuhV6w5eG3N0EjNi/5KSknQ6PXny5OLi4qysLMokSK1Uch/DQ0NDQ3l5edCPKIqiKKJjhgocpRqYOPQzOjq6Zs2aNWvWPPHEE93d3aqqIraTJGnTpk2Xx3aQu+66q6Oj4/7770ewhaDoGhRQKKyC9pLJpNfrpbAbDg08Au8P7/cZ21GcQSFzOp2ORCKqqh49enRkZASBPOgEEX1TU1M6nWaOwMjtdvf29u7fv3/ZsmXRaBSr4na7k8kkPQu60DQNjiwSiXR0dEyfPh32gTnE43GcjOUhJ2UYxoEDB2677TYyBp7nE4kE0I8pXXV1fnR0FFTHHACCzcRiscbGxrlz5w4NDY2MjOzbt294eBgxKMuY67hoGBkZyc3NpVmDAA4cOKDr+ocffojLqXsLFAYCAUEQfvWrX4XD4Z/85CdutxspnTM/sB2CROT48eP9/f35+fkwddpJcHWq+FICT2jbtqqqfr+fMdbc3Hz27FksWXNzM1ZfluW33nqrv79fFMXPwQ7LRhm+z+ebNWtWfX392rVrc3NzZVnGTOAmduzYkZ+f7/V6KfM3TTOZTEaj0UAgsG/fPlEUJUmybXt4ePjQoUPwBfBNMP1EIsFxXF9fn2EYhw8fBugZYxcuXDh+/LizsoByDCDe399/6dKl9957DzjTNK29vf1f//oXJeBXp2uO49566y04CBQswHy2bafT6Z6enuzs7NbWVsuyQqFQYWHhG2+8gV0hCCEoVXLeE9f6fD58VRSF5/lgMLhhw4aGhoaqqipiaIQrgCYe6vF4XnjhhQ8++OB3v/tdVlYWy6SxmDXF02ZGent7TdNsbW1ljmrUtdn+pKoq3A6Cuddff92yrIqKCp7nDx06tGXLlmQyqet6dnb2jBkzXn75Zdu2PzUg0zQTiURubq5zVwXFvDBisAgyuFQqFYlEHn/8cVmWDcN49dVX/X4/x3GBQGDZsmXz58+neByccf78eTClbdsDAwP19fV333336dOnly5dunLlSpAllcpisRiiJUSmH3300e7du5csWdLW1rZq1aqNGzfSdkAEMZcuXcrJyQEExyQZxFhUDaGVoLIZMM0Yu3jxIrJ10zRVVd2+fXteXp4syzk5OXV1dXPmzKEVnTdv3p///OcNGzbgVrt27cKFsiyXl5fX1tZSHjA4OAgnaxiG1+u1MxVBWC8F/qRqyr0EQZg+ffrWrVt//vOfL1iwoKamBgVUJFuGYbS3t7/55psrV65saWlZv379unXryP4x2Qk2TZI4S6EoYFEiTM9y1hfhuMFQLpcrlUr5fD6nKzdN85///OczzzwDIC1atGj37t1IaVVVraysVBSlv7//s9Svu7s7HA5jxO3t7clkEvsKZVlGqwfZ1te+9jUUFGDE6OGsWLFi8+bNv/3tb8vLyzEsYDcejzc0NESj0bNnzz7//PNlZWV1dXWBQGD27NmNjY0//elPS0pKkPODYEZGRnbu3Nnd3Z1MJk+fPn3vvffOnTt30qRJoVDo5MmTjzzySDgcRpQAyoxEIkePHn3//fePHTtWVFT00EMPFRcXI54d42oxJEAfXAt4gT927tw5MDDQ1tb22muvcRy3adMmt9v90EMPrVu37ve///2kSZOATsRYUH04HIZz93q9M2fO5DgunU6HQiGEOBiALMvJZDI3N9eyrFgs9v777wNeCObi8Xh2djaYcv78+eSvab0ZYw8++OD+/ftbWlq++c1vEh2iCDBt2jRRFFtbW3/4wx8Gg0EELbgKxjZxsAGEYZkQLciyfOTIkUgkkp2dPTQ0VFhYuHbtWlVVd+3aFYvFPB6PoijTp09fsmRJf3//22+/nUwm8/PzU6nU8uXLy8vLEb6j5InYF1AGBULniqJMnjz57NmznxKboigXLlyYMWMGYwzxoGVZfr/fNE2/3+/1ehOJhCRJAIfP50skEqi0YdDnzp3LysqqrKxE55t0FwqF1q1b19XVdeDAgUceeQTGJ4piNBoNhUJFRUXkVoBjOKALFy588MEH3//+9wVBGB0ddbvdw8PDU6dOLSwsxOMQmXq93qqqqvLy8sLCwuLi4oqKikAgQLEgoQ1JuxN5VB2kvSEPPvggIPKd73ynoKDA7XbLsvzJJ5+EQqHi4mJJkrBJAkPFmHVdV1W1oKBA07Tjx4/D7mVZLi0tXbVqFQgJMYaiKPiA5izIVVGUYDAIx0TFXmcNErA4d+4cz/Pr168H5jAd3E1V1Xg8ftddd6GgyBgbGBjIz8/HOL+wWwNFkVOC/dxzzz0LFy6kDeew8Lq6OtK5y+WSJKmoqGjt2rVAKvQJNaLymkqlqLuDWh1xJCYLuAuMMa/X29XVtWjRong87vf7Z86cicFRU4u2PxiGgdWKxWLwF6+99lpFRcW0adMOHTq0dOlSTdN27NhRWVlZXV1tmmZWVlY4HM7JySkoKGCMXbx48S9/+UtNTc3Zs2c7OjqmTJnS2tr6ySefxOPxJ554QhCE3Nzcrq6uUCiEPLezs/Nvf/tbbW3t0aNHI5FIZWVlQ0PDwMBAcXHxAw884PF4ADVJksLhMGMskUgwxrKzs23bBk8zxkZHR3NycmzbTiQSXq+XOmlUIZIkSZKkYDBYWFiI1ssf//jHmTNnTp48+cSJE9/4xjeIOVC5NQyjr6+vpKQEWNm0aRNjDBkPgRJuBRmooigFBQWBQABVK2fFDkJxJMv0SERRHBwcfPbZZzdu3FhaWooQEBRiGMaJEydOnDixYsWKd955p6qqasqUKX19fbt27frZz37GMtEwWdeVkOfMgRAyotZD8SiMHGwNICJudrvdwWCQ47isrCwnuDFlGC1MCCt78uTJO+64A+Npb2//7ne/y8BPtm3/8pe/BMBRGUcyjDI9NEKqgQW/8MILDQ0NiqLA1wwNDcEW4/H43r17Dx48iFspiiLLciwWQxataVo8HkeEh/LYhx9+eOnSpS1btoyMjOAEwzBisRiqXLquDw4OGoYxPDysaZpt22fOnDlx4sRLL70EvkHKoqoq7m/b9nPPPdfV1WXb9tNPP93T0zMyMvLSSy/FYrGurq5XX33Vtu1jx441NDTYtl1fXx+JRLCQtm1Ho1F8QPCqqmoymUwmk4ZhdHZ27t2795133unp6dF1fd++fdu3bwflkEJwITSGz7qub9u2jSY+5i91IJw6J4nFYtu2bfvrX/+aSqWgdtQLAW7cXFXV0dFRPPTNN9986qmn/v73v9OQnOt1uTj7bHSEHuE8gXQy7rWIU1GCxajeeOONP/zhD3h0LBZLJBKpVArTbG1tffbZZzVNc23durWzs9Pv97e0tCxevJiAj1m9+OKLubm5DQ0NJSUlkiQhw0WQd/vtt8disby8vEAgAL5ErVUUxXg8rqpqaWmpx+NB4xK8yhhDkQXlQLi5cDjc3Nx85513Tps2jXIL+COMBCaFOhDseP/+/SjgwZTB80gkNU2bNWtWQUGBaZoLFiwIhUIej2fy5Ml5eXkcxyGKKCsrq6ioEAShqKiopKSEsg3KS9CRE0URZXee52OxGDKMRCIRCAS6u7vvv/9+Z/xOvVpqNMNs2tvbq6urUV1CQfXYsWNHjhyJxWKnTp2qqqrC5eTpMEFBEJqams6cOfPkk09KkgSv5wwVgHjkKEjy6uvry8vLdV1HoMkc/clxhXO8f8QyfUUEVxins1nFMpv4KWdnjj0NGAPOFwRh6tSpaDFLkoQ9YIIgaJqWTCbb2tpWr17t8/n4995778knn8R5wLXt2Dnz8ccfp1Kpzs7O4eFhTA9xmKZpeXl5ixcvzsnJgVJQs0XANzQ0lEqlkCgQDaDMBkOn+ir029fXhzwAsZed2eQMXaiqSsVC9NHr6urOnTuHG8KbYPzAdyAQgEJpwfD6jN/v9/v9KNjCSPLy8lBnpogC0QntENZ1HU2akydP1tXVXbx4cfbs2aFQ6IEHHoAbgk6Yo2rKGJNlGY1jQA3HZVnGDuFQKNTS0jJp0qR9+/ZhqUAMVPcWRbG9vX3Xrl2/+MUvSC1gjueeew5RhKqqGACU3N/fL0lSd3d3TU0NdQIm3gdgOzYIMkd3AOBz2hJQAUYALqldTg0qxlgymaTzFy9eXFZWJoqi2+1Op9O2bUuSlJub+/DDD/v9/kQiIcyaNevee+89cOAA+3xBErQkCMKMGTMGBgbuvPNO6v3TXgk8mM/sMMNUYbKiKMZiMcQKFFpSgonAHGvj8/kCgUBvb++8efMQDIEbKHgHFlEfFkVxZGRkYGDg0UcfRaxADWLbsU0NrIOMj7oOuKFpmj6fD7cCpqkpYmdKr1AuSB1juP3226uqqsAE1HqhKjHL7DvCV+RehmEgEcHdkAcwxiKRyIoVKzo6OhYuXGg7WnCgSQQhv/71r5cvX97d3d3d3Y0uotvtvnjx4t69ezdu3Eg5CuwHxvbYY4/19PRomoYZfWFiQWxHNTIoimXqTVRthoadLXI+s/GCmM+27ezsbNhPTk4OfsLsfD4fZZkgppycHGZZVm9v77e//e0XX3wRuEbogML3K6+8Mjo6+vDDD1+4cAGqvFKscEucggUYHBx8/vnnQfBUed66dWs0Gn3llVdefvnl0dFRO0MnULuqqs888wzHcbm5ufn5+cFgMBgMlpaW5ufnZ2VlzZ49285EkPSsm3FROFjw9u3b586dO2fOHNtRZUUm7PV6o9FoMBikxv8E1H1LnPLxxx+3tbX94Ac/AEci9EGXNpFIIL2lziklIgMDA7RnDqxPUYHX6w2HwxQ+0oebTj515yhdEhOyjGck3wTXCQ94vcd8QwsF2qZptrW1DQ8PL1++3P58c8K5KRp+jTYODg8Pp9Pp4uJilgltyfHBt+Ip8O9W5g3wm44OePh4v98PTdEkEQaxTNSMAOIW5r5QgJ7z58+bpolI38oIQnLGGO0fc24QRGDX1dWFVANRFyr5jDGO486cOfPUU09RrEYxFrtWG5z+j/LZe7KUkeEHqjTSB+rEXb/R3gSC5H3Pnj2KopSWls6ZM4d6NtT1og3SlEsCdh6P59133+V5/uDBgwsWLHj33XdRySoqKqqurv7617++Z88elsm4KZFkV7Wt9fqKYGd2aCL7Y5mkDD8Dc2P6NrdkYsnOzv7Rj360du1a27aRclKznM+8V8E5XhEizhscHGxubl61alVeXp7f7586dSryd7QEdF0PBoO2bSO1tB2vENxcHpYx9mmDyIknYmwqFtBuSvs6vZR6EwmsVJKkFStW7NixIxQK0ZZE2/FuFHNgBVkddkJUV1d/9NFHd9xxhyzLPT0958+fHxoaunTpEnzu0NBQLBZjn39B5qbzsAz/8QmKGPOqGbXheMfrhjcdmV8XgT5lWf7Tn/704x//2JV5E5lKZWiEXL4XKxqNYq8USidUVEd9saenp6Ojo7S0tKKiwuPxUPJ3M67LFf+h2C25OrE//+YYPtx0TvCrECfSbsVqt+Q6yH8AWxxaDgabQC8AAAAASUVORK5CYII=)\n",
        "이다.\n",
        "\n",
        ": 어떤 집단의 특징이나 경향을 나타내는 대표값의 일종 \n",
        "\n",
        ": 평균값과 매우 유사함 => 그렇다면 왜 굳이 사용?\n",
        "\n",
        ": 예를 들어 sine함수처럼 진폭이 일정하고 부호만 반대인 함수의 평균값을 계산해보면 0이 되어버려서 올바른 평균값이 아니기 때문에 이렇게 사용하기 적합하지 않은 평균값 대신에 RMS를 사용한다. \n"
      ],
      "metadata": {
        "id": "sLPn2JfDo112"
      }
    }
  ]
}