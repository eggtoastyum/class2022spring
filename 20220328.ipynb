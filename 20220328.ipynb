{
  "nbformat": 4,
  "nbformat_minor": 0,
  "metadata": {
    "colab": {
      "name": "Untitled0.ipynb",
      "provenance": [],
      "collapsed_sections": [],
      "authorship_tag": "ABX9TyN5b8B0mV/8+wFZEqBpderK",
      "include_colab_link": true
    },
    "kernelspec": {
      "name": "python3",
      "display_name": "Python 3"
    },
    "language_info": {
      "name": "python"
    }
  },
  "cells": [
    {
      "cell_type": "markdown",
      "metadata": {
        "id": "view-in-github",
        "colab_type": "text"
      },
      "source": [
        "<a href=\"https://colab.research.google.com/github/eggtoastyum/class2022spring/blob/main/20220328.ipynb\" target=\"_parent\"><img src=\"https://colab.research.google.com/assets/colab-badge.svg\" alt=\"Open In Colab\"/></a>"
      ]
    },
    {
      "cell_type": "markdown",
      "source": [
        "서비스 설명 : 조회연도를 입력하여 **황사주의보 발령 내역**을 조회 (내역이 2020년만 있음)"
      ],
      "metadata": {
        "id": "46XUk9tiy23v"
      }
    },
    {
      "cell_type": "code",
      "source": [
        "!pip install gradio\n",
        "import gradio as gr\n",
        "import requests\n",
        "import pandas as pd"
      ],
      "metadata": {
        "id": "8eZHGJhmqd9a"
      },
      "execution_count": null,
      "outputs": []
    },
    {
      "cell_type": "code",
      "source": [
        "URL = ('http://apis.data.go.kr/B552584/OzYlwsndOccrrncInforInqireSvc/'\n",
        "      'getYlwsndAdvsryOccrrncInfo?'\n",
        "      'year=2020'\n",
        "      '&pageNo=1'\n",
        "      '&numOfRows=100'\n",
        "      '&returnType=json'\n",
        "      '&serviceKey=I0cG5zsEWsS6OaDn2Zx3G%2B%2BAb8rloVMcWEDt7q%2FwWTClolNq6LkIxLWD6Y9i%2BhLOG9vR0zBInL%2F9Z3%2BVprKF2A%3D%3D')\n",
        "response = requests.get(URL)"
      ],
      "metadata": {
        "id": "lHHEwqpyJF7r"
      },
      "execution_count": 22,
      "outputs": []
    },
    {
      "cell_type": "code",
      "source": [
        "r = response.json()\n",
        "r"
      ],
      "metadata": {
        "id": "JcLKwg0foR9p"
      },
      "execution_count": null,
      "outputs": []
    },
    {
      "cell_type": "code",
      "source": [
        "items = r['response']['body']['items']\n",
        "\n",
        "dataTime = [item['dataTime'] for item in items]\n",
        "tmArea = [item['tmArea'] for item in items]\n",
        "tmCnt = [item['tmCnt'] for item in items]\n",
        "\n",
        "\n",
        "dataTime = pd.Series(dataTime)\n",
        "tmArea = pd.Series(tmArea)   \n",
        "tmCnt = pd.Series(tmCnt)\n",
        "\n",
        "\n",
        "df = pd.DataFrame({ 'dataTime': dataTime, 'tmArea': tmArea,'tmCnt':tmCnt})\n",
        "df"
      ],
      "metadata": {
        "id": "W8lA0-IzE55W",
        "colab": {
          "base_uri": "https://localhost:8080/",
          "height": 300
        },
        "outputId": "92029a91-a3a9-40c4-9ecf-cd353042636e"
      },
      "execution_count": 35,
      "outputs": [
        {
          "output_type": "execute_result",
          "data": {
            "text/plain": [
              "     dataTime                                             tmArea  tmCnt\n",
              "0  2020-02-22  백령도, 서울, 인천, 수원, 북춘천, 청주, 대전, 안동, 대구, 전주, 창원, ...      1\n",
              "1  2020-04-04                       백령도, 인천, 청주, 대전, 광주, 흑산도, 홍성      2\n",
              "2  2020-04-22                  백령도, 북강릉, 서울, 인천, 수원, 청주, 안동, 북춘천      3\n",
              "3  2020-05-11                               백령도, 서울, 인천, 수원, 북춘천      4\n",
              "4  2020-06-04                                             청주, 안동      5\n",
              "5  2020-10-22         서울, 백령도, 인천, 북강릉, 북춘천, 전주, 광주, 목포, 흑산도, 제주      6\n",
              "6  2020-11-01                                   서울, 백령도, 홍성, 흑산도      7\n",
              "7  2020-11-02                                    서울, 홍성, 제주, 서귀포      7"
            ],
            "text/html": [
              "\n",
              "  <div id=\"df-2ef7c354-ce49-4dc6-81e7-93ab95e1f21c\">\n",
              "    <div class=\"colab-df-container\">\n",
              "      <div>\n",
              "<style scoped>\n",
              "    .dataframe tbody tr th:only-of-type {\n",
              "        vertical-align: middle;\n",
              "    }\n",
              "\n",
              "    .dataframe tbody tr th {\n",
              "        vertical-align: top;\n",
              "    }\n",
              "\n",
              "    .dataframe thead th {\n",
              "        text-align: right;\n",
              "    }\n",
              "</style>\n",
              "<table border=\"1\" class=\"dataframe\">\n",
              "  <thead>\n",
              "    <tr style=\"text-align: right;\">\n",
              "      <th></th>\n",
              "      <th>dataTime</th>\n",
              "      <th>tmArea</th>\n",
              "      <th>tmCnt</th>\n",
              "    </tr>\n",
              "  </thead>\n",
              "  <tbody>\n",
              "    <tr>\n",
              "      <th>0</th>\n",
              "      <td>2020-02-22</td>\n",
              "      <td>백령도, 서울, 인천, 수원, 북춘천, 청주, 대전, 안동, 대구, 전주, 창원, ...</td>\n",
              "      <td>1</td>\n",
              "    </tr>\n",
              "    <tr>\n",
              "      <th>1</th>\n",
              "      <td>2020-04-04</td>\n",
              "      <td>백령도, 인천, 청주, 대전, 광주, 흑산도, 홍성</td>\n",
              "      <td>2</td>\n",
              "    </tr>\n",
              "    <tr>\n",
              "      <th>2</th>\n",
              "      <td>2020-04-22</td>\n",
              "      <td>백령도, 북강릉, 서울, 인천, 수원, 청주, 안동, 북춘천</td>\n",
              "      <td>3</td>\n",
              "    </tr>\n",
              "    <tr>\n",
              "      <th>3</th>\n",
              "      <td>2020-05-11</td>\n",
              "      <td>백령도, 서울, 인천, 수원, 북춘천</td>\n",
              "      <td>4</td>\n",
              "    </tr>\n",
              "    <tr>\n",
              "      <th>4</th>\n",
              "      <td>2020-06-04</td>\n",
              "      <td>청주, 안동</td>\n",
              "      <td>5</td>\n",
              "    </tr>\n",
              "    <tr>\n",
              "      <th>5</th>\n",
              "      <td>2020-10-22</td>\n",
              "      <td>서울, 백령도, 인천, 북강릉, 북춘천, 전주, 광주, 목포, 흑산도, 제주</td>\n",
              "      <td>6</td>\n",
              "    </tr>\n",
              "    <tr>\n",
              "      <th>6</th>\n",
              "      <td>2020-11-01</td>\n",
              "      <td>서울, 백령도, 홍성, 흑산도</td>\n",
              "      <td>7</td>\n",
              "    </tr>\n",
              "    <tr>\n",
              "      <th>7</th>\n",
              "      <td>2020-11-02</td>\n",
              "      <td>서울, 홍성, 제주, 서귀포</td>\n",
              "      <td>7</td>\n",
              "    </tr>\n",
              "  </tbody>\n",
              "</table>\n",
              "</div>\n",
              "      <button class=\"colab-df-convert\" onclick=\"convertToInteractive('df-2ef7c354-ce49-4dc6-81e7-93ab95e1f21c')\"\n",
              "              title=\"Convert this dataframe to an interactive table.\"\n",
              "              style=\"display:none;\">\n",
              "        \n",
              "  <svg xmlns=\"http://www.w3.org/2000/svg\" height=\"24px\"viewBox=\"0 0 24 24\"\n",
              "       width=\"24px\">\n",
              "    <path d=\"M0 0h24v24H0V0z\" fill=\"none\"/>\n",
              "    <path d=\"M18.56 5.44l.94 2.06.94-2.06 2.06-.94-2.06-.94-.94-2.06-.94 2.06-2.06.94zm-11 1L8.5 8.5l.94-2.06 2.06-.94-2.06-.94L8.5 2.5l-.94 2.06-2.06.94zm10 10l.94 2.06.94-2.06 2.06-.94-2.06-.94-.94-2.06-.94 2.06-2.06.94z\"/><path d=\"M17.41 7.96l-1.37-1.37c-.4-.4-.92-.59-1.43-.59-.52 0-1.04.2-1.43.59L10.3 9.45l-7.72 7.72c-.78.78-.78 2.05 0 2.83L4 21.41c.39.39.9.59 1.41.59.51 0 1.02-.2 1.41-.59l7.78-7.78 2.81-2.81c.8-.78.8-2.07 0-2.86zM5.41 20L4 18.59l7.72-7.72 1.47 1.35L5.41 20z\"/>\n",
              "  </svg>\n",
              "      </button>\n",
              "      \n",
              "  <style>\n",
              "    .colab-df-container {\n",
              "      display:flex;\n",
              "      flex-wrap:wrap;\n",
              "      gap: 12px;\n",
              "    }\n",
              "\n",
              "    .colab-df-convert {\n",
              "      background-color: #E8F0FE;\n",
              "      border: none;\n",
              "      border-radius: 50%;\n",
              "      cursor: pointer;\n",
              "      display: none;\n",
              "      fill: #1967D2;\n",
              "      height: 32px;\n",
              "      padding: 0 0 0 0;\n",
              "      width: 32px;\n",
              "    }\n",
              "\n",
              "    .colab-df-convert:hover {\n",
              "      background-color: #E2EBFA;\n",
              "      box-shadow: 0px 1px 2px rgba(60, 64, 67, 0.3), 0px 1px 3px 1px rgba(60, 64, 67, 0.15);\n",
              "      fill: #174EA6;\n",
              "    }\n",
              "\n",
              "    [theme=dark] .colab-df-convert {\n",
              "      background-color: #3B4455;\n",
              "      fill: #D2E3FC;\n",
              "    }\n",
              "\n",
              "    [theme=dark] .colab-df-convert:hover {\n",
              "      background-color: #434B5C;\n",
              "      box-shadow: 0px 1px 3px 1px rgba(0, 0, 0, 0.15);\n",
              "      filter: drop-shadow(0px 1px 2px rgba(0, 0, 0, 0.3));\n",
              "      fill: #FFFFFF;\n",
              "    }\n",
              "  </style>\n",
              "\n",
              "      <script>\n",
              "        const buttonEl =\n",
              "          document.querySelector('#df-2ef7c354-ce49-4dc6-81e7-93ab95e1f21c button.colab-df-convert');\n",
              "        buttonEl.style.display =\n",
              "          google.colab.kernel.accessAllowed ? 'block' : 'none';\n",
              "\n",
              "        async function convertToInteractive(key) {\n",
              "          const element = document.querySelector('#df-2ef7c354-ce49-4dc6-81e7-93ab95e1f21c');\n",
              "          const dataTable =\n",
              "            await google.colab.kernel.invokeFunction('convertToInteractive',\n",
              "                                                     [key], {});\n",
              "          if (!dataTable) return;\n",
              "\n",
              "          const docLinkHtml = 'Like what you see? Visit the ' +\n",
              "            '<a target=\"_blank\" href=https://colab.research.google.com/notebooks/data_table.ipynb>data table notebook</a>'\n",
              "            + ' to learn more about interactive tables.';\n",
              "          element.innerHTML = '';\n",
              "          dataTable['output_type'] = 'display_data';\n",
              "          await google.colab.output.renderOutput(dataTable, element);\n",
              "          const docLink = document.createElement('div');\n",
              "          docLink.innerHTML = docLinkHtml;\n",
              "          element.appendChild(docLink);\n",
              "        }\n",
              "      </script>\n",
              "    </div>\n",
              "  </div>\n",
              "  "
            ]
          },
          "metadata": {},
          "execution_count": 35
        }
      ]
    },
    {
      "cell_type": "code",
      "source": [
        "def test(year):\n",
        "  URL = ('http://apis.data.go.kr/B552584/OzYlwsndOccrrncInforInqireSvc/'\n",
        "      'getYlwsndAdvsryOccrrncInfo?'\n",
        "      'year='+year+\n",
        "      '&pageNo=1'\n",
        "      '&numOfRows=100'\n",
        "      '&returnType=json'\n",
        "      '&serviceKey=I0cG5zsEWsS6OaDn2Zx3G%2B%2BAb8rloVMcWEDt7q%2FwWTClolNq6LkIxLWD6Y9i%2BhLOG9vR0zBInL%2F9Z3%2BVprKF2A%3D%3D')\n",
        "  \n",
        "  response = requests.get(URL)\n",
        "  r = response.json()\n",
        "  items = r['response']['body']['items']\n",
        "  \n",
        "  dataTime = [item['dataTime'] for item in items]\n",
        "  tmArea = [item['tmArea'] for item in items]\n",
        "  tmCnt = [item['tmCnt'] for item in items]\n",
        "  \n",
        "  dataTime = pd.Series(dataTime)\n",
        "  tmArea = pd.Series(tmArea)   \n",
        "  tmCnt = pd.Series(tmCnt)\n",
        "  \n",
        "  df = pd.DataFrame({ 'dataTime':dataTime, 'tmArea': tmArea, 'tmCnt':tmCnt})\n",
        "  return df"
      ],
      "metadata": {
        "id": "xa2Gb_qsm_G5"
      },
      "execution_count": 52,
      "outputs": []
    },
    {
      "cell_type": "code",
      "source": [
        "iface = gr.Interface(test, gr.inputs.Dropdown(['2020']), outputs=['dataframe'])  #서비스 기술문서를 보니까 2020년도의 자료만 있는듯 \n",
        "iface.launch(debug=True)"
      ],
      "metadata": {
        "id": "kxORJVPOnDSP",
        "outputId": "f49f724a-1a78-49b7-b0fd-39f5c3e4dcd4",
        "colab": {
          "base_uri": "https://localhost:8080/",
          "height": 665
        }
      },
      "execution_count": 54,
      "outputs": [
        {
          "output_type": "stream",
          "name": "stdout",
          "text": [
            "Colab notebook detected. This cell will run indefinitely so that you can see errors and logs. To turn off, set debug=False in launch().\n",
            "Running on public URL: https://18141.gradio.app\n",
            "\n",
            "This share link expires in 72 hours. For free permanent hosting, check out Spaces (https://huggingface.co/spaces)\n"
          ]
        },
        {
          "output_type": "display_data",
          "data": {
            "text/plain": [
              "<IPython.lib.display.IFrame at 0x7f8bb701a3d0>"
            ],
            "text/html": [
              "\n",
              "        <iframe\n",
              "            width=\"900\"\n",
              "            height=\"500\"\n",
              "            src=\"https://18141.gradio.app\"\n",
              "            frameborder=\"0\"\n",
              "            allowfullscreen\n",
              "        ></iframe>\n",
              "        "
            ]
          },
          "metadata": {}
        },
        {
          "output_type": "stream",
          "name": "stdout",
          "text": [
            "Keyboard interruption in main thread... closing server.\n"
          ]
        },
        {
          "output_type": "execute_result",
          "data": {
            "text/plain": [
              "(<fastapi.applications.FastAPI at 0x7f8bc343dd50>,\n",
              " 'http://127.0.0.1:7860/',\n",
              " 'https://18141.gradio.app')"
            ]
          },
          "metadata": {},
          "execution_count": 54
        }
      ]
    }
  ]
}