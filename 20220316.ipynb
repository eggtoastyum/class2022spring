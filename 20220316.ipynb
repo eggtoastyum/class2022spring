{
  "nbformat": 4,
  "nbformat_minor": 0,
  "metadata": {
    "colab": {
      "name": "20220316.ipynb",
      "provenance": [],
      "collapsed_sections": [],
      "authorship_tag": "ABX9TyPR14f+gEj+09GcbiZxrshr",
      "include_colab_link": true
    },
    "kernelspec": {
      "name": "python3",
      "display_name": "Python 3"
    },
    "language_info": {
      "name": "python"
    }
  },
  "cells": [
    {
      "cell_type": "markdown",
      "metadata": {
        "id": "view-in-github",
        "colab_type": "text"
      },
      "source": [
        "<a href=\"https://colab.research.google.com/github/eggtoastyum/class2022spring/blob/main/20220316.ipynb\" target=\"_parent\"><img src=\"https://colab.research.google.com/assets/colab-badge.svg\" alt=\"Open In Colab\"/></a>"
      ]
    },
    {
      "cell_type": "markdown",
      "source": [
        "**변수_variables**\n",
        "1. numbers \n",
        "2. strings \n",
        "3. list \n",
        "4. dict"
      ],
      "metadata": {
        "id": "b7TkfdG9KRlI"
      }
    },
    {
      "cell_type": "code",
      "metadata": {
        "id": "goAyoU7vRheI"
      },
      "source": [
        "a = 1; print(type(a)) #numbers의 type에는 int(정수)와 float(실수)가 있다!"
      ],
      "execution_count": null,
      "outputs": []
    },
    {
      "cell_type": "code",
      "metadata": {
        "id": "txxnoqJuRheJ"
      },
      "source": [
        "a = 1.1; print(type(a))"
      ],
      "execution_count": null,
      "outputs": []
    },
    {
      "cell_type": "code",
      "metadata": {
        "id": "SyP0PB86RheL"
      },
      "source": [
        "a = '123'; print(type(a)); print(a[1]) #string(글자)는 따옴표 필수! 숫자여도 따옴표 있으면 문자임"
      ],
      "execution_count": null,
      "outputs": []
    },
    {
      "cell_type": "code",
      "metadata": {
        "id": "EKYj0dvIHPo0"
      },
      "source": [
        "a = 'hello'; print(type(a)); print(a[1]) #파이썬은 1이 아닌 0부터 시작임"
      ],
      "execution_count": null,
      "outputs": []
    },
    {
      "cell_type": "code",
      "metadata": {
        "id": "Df6PhU-tHXr2"
      },
      "source": [
        "a = [1, 2, 3, 4]; print(type(a)); print(a[0]) #list는 대괄호 사용, list안에 list도 가능"
      ],
      "execution_count": null,
      "outputs": []
    },
    {
      "cell_type": "code",
      "metadata": {
        "id": "DfS-gknCRheL"
      },
      "source": [
        "a = [1,'a', [3, '4']]; print(type(a)); print(a[0]); print(a[1]); print(a[2]); print(a[2][1]) #list와 string은 indexing하는 방법이 같음"
      ],
      "execution_count": null,
      "outputs": []
    },
    {
      "cell_type": "code",
      "metadata": {
        "id": "2sivfloGRheM"
      },
      "source": [
        "a =\t{\"a\": \"apple\", \"b\": \"orange\", \"c\": 2014} #dict는 print할 때 key단어가 input이 됨.\n",
        "print(type(a))\n",
        "print(a[\"a\"])"
      ],
      "execution_count": null,
      "outputs": []
    },
    {
      "cell_type": "markdown",
      "source": [
        "**Indexing**\n",
        "\n",
        ": 전부다\n",
        "\n",
        "a~b까지를 표현할 때는 [a:b+1]까지로 해야함 (마지막거를 포함하지 않기 때문)\n",
        "\n",
        "a: a부터 끝까지\n",
        "\n",
        ":-b 끝에서 b개만큼 빼고 다\n",
        "\n",
        "a:-b a부터 b개만큼 빼고 다\n",
        "\n",
        ":b 처음부터 b까지\n"
      ],
      "metadata": {
        "id": "HtRNUS8wPKdK"
      }
    },
    {
      "cell_type": "code",
      "metadata": {
        "id": "zwpWU02YmAur"
      },
      "source": [
        "s = 'abcdef'\n",
        "print(s[0], s[5], s[-1], s[-6])\n",
        "print(s[1:3], s[1:], s[:3], s[:]) "
      ],
      "execution_count": null,
      "outputs": []
    },
    {
      "cell_type": "code",
      "metadata": {
        "id": "mpkdZBeWmAux"
      },
      "source": [
        "n = [100, 200, 300]\n",
        "print(n[0], n[2], n[-1], n[-3])\n",
        "print(n[1:2], n[1:], n[:2], n[:])"
      ],
      "execution_count": null,
      "outputs": []
    },
    {
      "cell_type": "code",
      "metadata": {
        "id": "ulnefmnFmAuy"
      },
      "source": [
        "len(s) #길이를 말해주는 built-in 함수"
      ],
      "execution_count": null,
      "outputs": []
    },
    {
      "cell_type": "code",
      "metadata": {
        "id": "a45rgiNMmAuy"
      },
      "source": [
        "s[1]+s[3]+s[4:]*10"
      ],
      "execution_count": null,
      "outputs": []
    },
    {
      "cell_type": "code",
      "metadata": {
        "id": "IevwoMpmmAuz"
      },
      "source": [
        "s.upper() #대문자로 만들어줌"
      ],
      "execution_count": null,
      "outputs": []
    },
    {
      "cell_type": "code",
      "metadata": {
        "id": "LRU0Yt1amAuz"
      },
      "source": [
        "s = ' this is a house built this year.\\n' \t#제일 마지막 줄은 굳이 print하지 않아도 같은 효과\n",
        "s"
      ],
      "execution_count": null,
      "outputs": []
    },
    {
      "cell_type": "code",
      "metadata": {
        "id": "nMHteyDfmAu0"
      },
      "source": [
        "result = s.find('house') \t    #파이썬은 0부터 시작임!\n",
        "result"
      ],
      "execution_count": null,
      "outputs": []
    },
    {
      "cell_type": "code",
      "metadata": {
        "id": "gv82JUX7mAu0"
      },
      "source": [
        "result = s.find('this')\t      \n",
        "result"
      ],
      "execution_count": null,
      "outputs": []
    },
    {
      "cell_type": "code",
      "metadata": {
        "id": "ua3TjwLcmAu2"
      },
      "source": [
        "s = s.strip()      \t          #문장부호나 필요없는 space 같은 whitespace를 지워라!\n",
        "s"
      ],
      "execution_count": null,
      "outputs": []
    },
    {
      "cell_type": "code",
      "metadata": {
        "id": "l37g5DqQmAu2"
      },
      "source": [
        "tokens = s.split(' ')\t        #괄호 안의 것을 기준으로 쪼갠 후 list로 만들어라, 유용함\n",
        "tokens"
      ],
      "execution_count": null,
      "outputs": []
    },
    {
      "cell_type": "code",
      "metadata": {
        "id": "64sewKE8mAu2"
      },
      "source": [
        "s = ' '.join(tokens)\t        #앞에 걸 넣어서 다시 이어 붙이기, split과 함께 유용\n",
        "s"
      ],
      "execution_count": null,
      "outputs": []
    },
    {
      "cell_type": "code",
      "metadata": {
        "id": "jfiqbBiImAu3"
      },
      "source": [
        "s = s.replace('this', 'that') #replace(a,b)는 a를 b로 바꿔라!\n",
        "s"
      ],
      "execution_count": null,
      "outputs": []
    },
    {
      "cell_type": "markdown",
      "source": [
        "**Function**\n",
        "\n",
        "def함수이름(변수,변수...)**:** \n",
        "\n",
        "    함수에 대한 정의\n",
        "return 출력값"
      ],
      "metadata": {
        "id": "4Sb8O_N7RMTV"
      }
    },
    {
      "cell_type": "code",
      "metadata": {
        "id": "hpc_mhgAye2S"
      },
      "source": [
        "def add(a,b): #함수 정의할 때 ':'없으면 에러뜸\n",
        "  return a+b\n",
        "\n",
        "def subtract(a,b):\n",
        "  return a-b\n",
        "\n",
        "def multiply(a,b):\n",
        "  return a*b\n",
        "\n",
        "def divide(a,b):\n",
        "  return a/b"
      ],
      "execution_count": 23,
      "outputs": []
    },
    {
      "cell_type": "code",
      "metadata": {
        "id": "8Y4oa05Eykn4"
      },
      "source": [
        "c = add(1,2); print(c)\n",
        "c = subtract(1,2); print(c)\n",
        "c = multiply(1,2); print(c)\n",
        "c = divide(1,2); print(c)"
      ],
      "execution_count": null,
      "outputs": []
    },
    {
      "cell_type": "markdown",
      "source": [
        "**Syntax**\n",
        "1. 반복문 : for/while\n",
        "\n",
        "   for b in a :         \n",
        "\n",
        "   (indent) print(b)\n",
        "\n",
        "2. 조건문 : if/switch\n",
        "\n",
        "   a=0\n",
        "\n",
        "   if a==o :\n",
        "\n",
        "   (indent) print(a)\n",
        "\n",
        "   else :\n",
        "   \n",
        "   (indent) print(a+1)\n"
      ],
      "metadata": {
        "id": "4e0ee15kR7As"
      }
    },
    {
      "cell_type": "code",
      "metadata": {
        "id": "Fu2mzgrqSLAU"
      },
      "source": [
        "a = [1, 2, 3, 4]  #a에 있는 것들을 i로 처음부터 하나하나씩 받아서 올림\n",
        "for i in a:       #':'필수\n",
        "    print(i)      #indent 필수임"
      ],
      "execution_count": null,
      "outputs": []
    },
    {
      "cell_type": "code",
      "metadata": {
        "id": "XSJxLJVCSLAW"
      },
      "source": [
        "a = [1, 2, 3, 4]\n",
        "for i in range(len(a)): #이전거와 같은 의미, 다른코드\n",
        "    print(a[i])"
      ],
      "execution_count": null,
      "outputs": []
    },
    {
      "cell_type": "code",
      "metadata": {
        "id": "VTfxVRdgSLAW"
      },
      "source": [
        "a = ['red', 'green', 'blue', 'purple']\n",
        "for i in a:\n",
        "    print(i)"
      ],
      "execution_count": null,
      "outputs": []
    },
    {
      "cell_type": "code",
      "metadata": {
        "id": "Vc-7pW85SLAW"
      },
      "source": [
        "a = ['red', 'green', 'blue', 'purple']\n",
        "for i in range(len(a)):\n",
        "    print(a[i])"
      ],
      "execution_count": null,
      "outputs": []
    },
    {
      "cell_type": "code",
      "metadata": {
        "id": "dD-ephD3SLAX"
      },
      "source": [
        "a = 0\n",
        "if a == 0:       #a가 0과 같다면~ cf) a!=0 : a가 0이 아니라면~\n",
        "    print(a)\n",
        "else:\n",
        "    print(a+1)"
      ],
      "execution_count": null,
      "outputs": []
    },
    {
      "cell_type": "code",
      "metadata": {
        "id": "M0AZaDMvSLAY"
      },
      "source": [
        "for i in range(1, 3):\n",
        "    for j in range(3, 5):\n",
        "        print(i*j)"
      ],
      "execution_count": null,
      "outputs": []
    },
    {
      "cell_type": "code",
      "metadata": {
        "id": "ZPpZmVIHSLAY"
      },
      "source": [
        "for i in range(1, 3):\n",
        "    for j in range(3, 5):\n",
        "        if j >=4:\n",
        "            print(i*j)"
      ],
      "execution_count": null,
      "outputs": []
    },
    {
      "cell_type": "code",
      "metadata": {
        "id": "JQXk5vi0SLAY"
      },
      "source": [
        "a = [1, 2, 3, 4]\n",
        "b = [i for i in a if i >=2]\n",
        "b"
      ],
      "execution_count": null,
      "outputs": []
    },
    {
      "cell_type": "code",
      "metadata": {
        "id": "MDmBGZ3LSLAZ"
      },
      "source": [
        "a = ['red', 'green', 'blue', 'purple']\n",
        "b = [i for i in a if len(i) >=4]\n",
        "b"
      ],
      "execution_count": null,
      "outputs": []
    },
    {
      "cell_type": "code",
      "source": [
        "a = ['red', 'green', 'blue', 'purple']\n",
        "b = [1, 2, 3, 4]\n",
        "c = {a[i]:b[i] for i in range(4)}\n",
        "c"
      ],
      "metadata": {
        "id": "Z6JMoDOHu48B"
      },
      "execution_count": null,
      "outputs": []
    },
    {
      "cell_type": "markdown",
      "source": [
        "**Import**\n",
        "\n",
        "사람들이 만들어놓은 package를 불러오기 위한 명령어\n",
        "\n",
        "쉽게 쓸 수 있도록 ram으로 올리는 것\n",
        "\n",
        "package는 원래 install후 import해야 하지만 유명한 packages는 이미 내장되어 있음\n"
      ],
      "metadata": {
        "id": "3iVIvNGVT3K1"
      }
    },
    {
      "cell_type": "code",
      "source": [
        "import numpy             #numpy는 AI와 data science의 가장 중요한 package\n",
        "numpy.random.randn(100)"
      ],
      "metadata": {
        "id": "-J7EOrXsU28A"
      },
      "execution_count": null,
      "outputs": []
    },
    {
      "cell_type": "code",
      "metadata": {
        "id": "JXicrkYOzPRo"
      },
      "source": [
        "import numpy as np       #사람들이 주로 np로 많이 줄임\n",
        "n = np.random.randn(100)"
      ],
      "execution_count": 37,
      "outputs": []
    },
    {
      "cell_type": "code",
      "metadata": {
        "id": "oKT4vn4MwyLA"
      },
      "source": [
        "import matplotlib\n",
        "matplotlib.pyplot.hist(n)   #hist는 히스토그램, x축이 개체, y축이 개수(횟수)"
      ],
      "execution_count": null,
      "outputs": []
    },
    {
      "cell_type": "code",
      "metadata": {
        "id": "zQJ4LnbA-Hvz"
      },
      "source": [
        "import matplotlib.pyplot    #바로 위 코드와 같은 의미(1)\n",
        "matplotlib.pyplot.hist(n)"
      ],
      "execution_count": null,
      "outputs": []
    },
    {
      "cell_type": "code",
      "metadata": {
        "id": "AWU6awi53c07"
      },
      "source": [
        "import matplotlib.pyplot as plt   #바로 위 코드와 같은 의미(2)\n",
        "plt.hist(n)                       #사람들이 주로 plt로 많이 줄임"
      ],
      "execution_count": null,
      "outputs": []
    },
    {
      "cell_type": "code",
      "metadata": {
        "id": "moIjn3Kv-Hqy"
      },
      "source": [
        "from matplotlib import pyplot  #from import는 import as 같이 축약할 수 있는 효과가 있음\n",
        "pyplot.hist(n)"
      ],
      "execution_count": null,
      "outputs": []
    },
    {
      "cell_type": "code",
      "metadata": {
        "id": "ORo259i7_Uqi"
      },
      "source": [
        "from matplotlib.pyplot import hist  #바로 위 코드와 같은 의미\n",
        "hist(n)"
      ],
      "execution_count": null,
      "outputs": []
    },
    {
      "cell_type": "markdown",
      "source": [
        "**numpy와 matplotlib**\n"
      ],
      "metadata": {
        "id": "kd-P_8lRVxY_"
      }
    },
    {
      "cell_type": "markdown",
      "source": [
        "1. Create nd arrays(matrices)"
      ],
      "metadata": {
        "id": "jrFIItTbV4SX"
      }
    },
    {
      "cell_type": "code",
      "metadata": {
        "id": "5ap7xyofShBB"
      },
      "source": [
        "import numpy as np"
      ],
      "execution_count": 45,
      "outputs": []
    },
    {
      "cell_type": "code",
      "metadata": {
        "id": "2rqpSPZCShBC"
      },
      "source": [
        "x = np.array([1,2,3])  #array는 list를 array로 바꿔줌\n",
        "print(x)\n",
        "print(type(x))\n",
        "print(x.shape)         #class는 특수한 경우"
      ],
      "execution_count": null,
      "outputs": []
    },
    {
      "cell_type": "code",
      "metadata": {
        "id": "EjC88C75ShBC"
      },
      "source": [
        "x = np.arange(0,10,2)  #arange(a,b,c)는 a부터 b를 포함하지 않고 c의 간격, c가 increment\n",
        "print(x)\n",
        "print(type(x))\n",
        "print(x.shape)"
      ],
      "execution_count": null,
      "outputs": []
    },
    {
      "cell_type": "code",
      "metadata": {
        "id": "-MwkCEjTShBC"
      },
      "source": [
        "x = np.linspace(0,10,6)  #linspace(a,b,c)는 a부터 b를 포함하고 c개로 생성\n",
        "print(x)\n",
        "print(type(x))\n",
        "print(x.shape)"
      ],
      "execution_count": null,
      "outputs": []
    },
    {
      "cell_type": "code",
      "metadata": {
        "id": "tjk79SQ27fNv"
      },
      "source": [
        "x = np.array([[1,2,3], [4,5,6]])  #2x3 matrix\n",
        "print(x)\n",
        "print(type(x))\n",
        "print(x.shape)"
      ],
      "execution_count": null,
      "outputs": []
    },
    {
      "cell_type": "code",
      "metadata": {
        "id": "C1ogg6iZ7yir"
      },
      "source": [
        "x = np.array([[[1,2,3], [4,5,6]], [[7,8,9], [10,11,12]]])  #2x2x3 matrix\n",
        "print(x)\n",
        "print(type(x))\n",
        "print(x.shape)"
      ],
      "execution_count": null,
      "outputs": []
    },
    {
      "cell_type": "code",
      "metadata": {
        "id": "efgeNHtD8ZlT"
      },
      "source": [
        "x = np.ones([2, 2, 3])  #[ , , ]의 구조로 전부다 1로 만들기\n",
        "print(x)\n",
        "print(type(x))\n",
        "print(x.shape)"
      ],
      "execution_count": null,
      "outputs": []
    },
    {
      "cell_type": "code",
      "metadata": {
        "id": "b_F-ccY08zzl"
      },
      "source": [
        "x = np.zeros([2, 2, 3])   #[ , , ]의 구조로 전부다 0으로 만들기\n",
        "print(x)\n",
        "print(type(x))\n",
        "print(x.shape)\n",
        "x.reshape(3,2,2)"
      ],
      "execution_count": null,
      "outputs": []
    },
    {
      "cell_type": "markdown",
      "metadata": {
        "id": "0hQuDJ5g9gpE"
      },
      "source": [
        "### create random numbers"
      ]
    }
  ]
}